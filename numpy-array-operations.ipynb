{
 "cells": [
  {
   "cell_type": "markdown",
   "metadata": {},
   "source": [
    "# Binary Operations on NumPy Arrays\n",
    "\n",
    "**NumPy** is a library for scientific computing in Python. This is one of the libraries that comes in handy when working on machine learning problems. Python is very slow compared to many other languages which is the reason that computation on larger datasets consume a lot of time using Python. **NumPy** is a library written primarily in C to handle large multi-dimensional arrays. It is very fast compared to python as it is written in C and comes very advantageous on larger datasets.\n",
    "\n",
    "Let us look some binary operations on NumPy arrays which are not very commonly used but can come in need when required. The functions that we are going to look at are:\n",
    "\n",
    "- bitwise_and\n",
    "- bitwise_or\n",
    "- bitwise_xor\n",
    "- invert\n",
    "- left_shift\n",
    "- right_shift"
   ]
  },
  {
   "cell_type": "markdown",
   "metadata": {},
   "source": [
    "Let's begin by importing Numpy and listing out the functions covered in this notebook."
   ]
  },
  {
   "cell_type": "code",
   "execution_count": 3,
   "metadata": {},
   "outputs": [],
   "source": [
    "# Importing NumPy\n",
    "import numpy as np"
   ]
  },
  {
   "cell_type": "code",
   "execution_count": 4,
   "metadata": {},
   "outputs": [],
   "source": [
    "# List of functions explained \n",
    "function1 = np.bitwise_and\n",
    "function2 = np.bitwise_or\n",
    "function3 = np.bitwise_xor\n",
    "function4 = np.invert\n",
    "function5 = np.left_shift\n",
    "function6 = np.right_shift"
   ]
  },
  {
   "cell_type": "markdown",
   "metadata": {},
   "source": [
    "## Function 1 -  np.bitwise_and\n",
    "\n",
    "Computes the bitwiseAND of two numpy arrays element-wise. In Python, bitwiseAND is found of using `&`.\n",
    "<br/>\n",
    "<br/>\n",
    "Example:<br/>\n",
    "Let us see how the bitwiseAND works conceptually. Consider two numbers: <br/>\n",
    "A = 12 <br/>\n",
    "B = 5 <br/>\n",
    "\n",
    "Binary representations of the two numbers are as follows: <br/>\n",
    "A = 12 => 1100 <br/>\n",
    "B = 5  => 0101 <br/>\n",
    "\n",
    "bitwiseAND operator returns a 1 in each bit position where the corresponding bits in both the numbers are 1 else it returns 0\n",
    "<br/>\n",
    "A = 12 => 1 1 0 0 <br/>\n",
    "B = 5  => 0 1 0 1 <br/>\n",
    "A&B    => 0 1 0 0 => 4 (in decimal representation) <br/>"
   ]
  },
  {
   "cell_type": "code",
   "execution_count": 5,
   "metadata": {},
   "outputs": [
    {
     "data": {
      "text/plain": [
       "array([  0,   4,   2,   4,  68, 134,  64])"
      ]
     },
     "execution_count": 5,
     "metadata": {},
     "output_type": "execute_result"
    }
   ],
   "source": [
    "# Example 1 - working\n",
    "arr1 = np.array([2, 4, 6, 12, 85, 143, 72])\n",
    "\n",
    "arr2 = np.array([8, 21, 98, 100, 454, 198, 67])\n",
    "\n",
    "np.bitwise_and(arr1, arr2)"
   ]
  },
  {
   "cell_type": "markdown",
   "metadata": {},
   "source": [
    "We can see the working of `bitwise_and` in the above example. The function computes bitwise_and between two NumPy arrays element-wise i.e, 2 AND 8 = 0, 4 AND 21 = 4 and so on."
   ]
  },
  {
   "cell_type": "code",
   "execution_count": 6,
   "metadata": {},
   "outputs": [
    {
     "data": {
      "text/plain": [
       "array([[1, 2],\n",
       "       [0, 0]])"
      ]
     },
     "execution_count": 6,
     "metadata": {},
     "output_type": "execute_result"
    }
   ],
   "source": [
    "# Example 2 - working\n",
    "\n",
    "arr1 = np.array([[1, 2], [3, 4]])\n",
    "\n",
    "arr2 = np.array([[5, 6], [8, 9]])\n",
    "\n",
    "np.bitwise_and(arr1,arr2)"
   ]
  },
  {
   "cell_type": "markdown",
   "metadata": {},
   "source": [
    "We performed `bitwise_and` between two matrices of shape 2X2. We can perform bitwise_and between any two NumPy arrays of same shape."
   ]
  },
  {
   "cell_type": "code",
   "execution_count": 7,
   "metadata": {},
   "outputs": [
    {
     "ename": "ValueError",
     "evalue": "operands could not be broadcast together with shapes (2,2) (2,3) ",
     "output_type": "error",
     "traceback": [
      "\u001b[0;31m---------------------------------------------------------------------------\u001b[0m",
      "\u001b[0;31mValueError\u001b[0m                                Traceback (most recent call last)",
      "\u001b[0;32m/tmp/ipykernel_37/1198059674.py\u001b[0m in \u001b[0;36m<module>\u001b[0;34m\u001b[0m\n\u001b[1;32m      4\u001b[0m \u001b[0marr2\u001b[0m \u001b[0;34m=\u001b[0m \u001b[0mnp\u001b[0m\u001b[0;34m.\u001b[0m\u001b[0marray\u001b[0m\u001b[0;34m(\u001b[0m\u001b[0;34m[\u001b[0m\u001b[0;34m[\u001b[0m\u001b[0;36m5\u001b[0m\u001b[0;34m,\u001b[0m \u001b[0;36m6\u001b[0m\u001b[0;34m,\u001b[0m \u001b[0;36m7\u001b[0m\u001b[0;34m]\u001b[0m\u001b[0;34m,\u001b[0m \u001b[0;34m[\u001b[0m\u001b[0;36m8\u001b[0m\u001b[0;34m,\u001b[0m \u001b[0;36m9\u001b[0m\u001b[0;34m,\u001b[0m \u001b[0;36m10\u001b[0m\u001b[0;34m]\u001b[0m\u001b[0;34m]\u001b[0m\u001b[0;34m)\u001b[0m\u001b[0;34m\u001b[0m\u001b[0;34m\u001b[0m\u001b[0m\n\u001b[1;32m      5\u001b[0m \u001b[0;34m\u001b[0m\u001b[0m\n\u001b[0;32m----> 6\u001b[0;31m \u001b[0mnp\u001b[0m\u001b[0;34m.\u001b[0m\u001b[0mbitwise_and\u001b[0m\u001b[0;34m(\u001b[0m\u001b[0marr1\u001b[0m\u001b[0;34m,\u001b[0m\u001b[0marr2\u001b[0m\u001b[0;34m)\u001b[0m\u001b[0;34m\u001b[0m\u001b[0;34m\u001b[0m\u001b[0m\n\u001b[0m",
      "\u001b[0;31mValueError\u001b[0m: operands could not be broadcast together with shapes (2,2) (2,3) "
     ]
    }
   ],
   "source": [
    "# Example 3 - breaks\n",
    "arr1 = np.array([[1, 2], [3, 4]])\n",
    "\n",
    "arr2 = np.array([[5, 6, 7], [8, 9, 10]])\n",
    "\n",
    "np.bitwise_and(arr1,arr2)"
   ]
  },
  {
   "cell_type": "markdown",
   "metadata": {},
   "source": [
    "In the above example, we did not get the result expected as the shape of arrays `arr1` and `arr2` are different. Therefore, element-wise operations are not possible on this example. We can fix this issue by resizing the arrays to be of equal shape."
   ]
  },
  {
   "cell_type": "markdown",
   "metadata": {},
   "source": [
    "## Function 2 - np.bitwise_or\n",
    "\n",
    "Computes the bitwiseOR of two numpy arrays element-wise. In Python, bitwiseOR is found of using `|`.\n",
    "<br/>\n",
    "<br/>\n",
    "Example:<br/>\n",
    "Let us see how the bitwiseOR works conceptually. Consider two numbers: <br/>\n",
    "A = 12 <br/>\n",
    "B = 5 <br/>\n",
    "\n",
    "Binary representations of the two numbers are as follows: <br/>\n",
    "A = 12 => 1100 <br/>\n",
    "B = 5  => 0101 <br/>\n",
    "\n",
    "bitwiseOR operator returns a 0 in each bit position where the corresponding bits in both the numbers are 0 else it returns 1\n",
    "<br/>\n",
    "A = 12 => 1 1 0 0 <br/>\n",
    "B = 5  => 0 1 0 1 <br/>\n",
    "A|B    => 1 1 0 1 => 13 (in decimal representation) <br/>"
   ]
  },
  {
   "cell_type": "code",
   "execution_count": 8,
   "metadata": {},
   "outputs": [
    {
     "data": {
      "text/plain": [
       "array([ 13,  95, 125, 126])"
      ]
     },
     "execution_count": 8,
     "metadata": {},
     "output_type": "execute_result"
    }
   ],
   "source": [
    "# Example 1 - working\n",
    "\n",
    "arr1 = np.array([8, 10, 76, 90])\n",
    "\n",
    "arr2 = np.array([5, 87, 121, 54])\n",
    "\n",
    "np.bitwise_or(arr1,arr2)"
   ]
  },
  {
   "cell_type": "markdown",
   "metadata": {},
   "source": [
    "We can see the working of `bitwise_or` in the above example. The function computes bitwise_or between two NumPy arrays element-wise i.e, 8 OR 5 = 13, 10 OR 87 = 95 and so on."
   ]
  },
  {
   "cell_type": "code",
   "execution_count": 9,
   "metadata": {},
   "outputs": [
    {
     "data": {
      "text/plain": [
       "array([[15, 15, 19],\n",
       "       [21, 23, 23],\n",
       "       [23, 29, 31]])"
      ]
     },
     "execution_count": 9,
     "metadata": {},
     "output_type": "execute_result"
    }
   ],
   "source": [
    "# Example 2 - working\n",
    "\n",
    "arr1 = np.array([[1, 2, 3], [4, 5, 6], [7, 8, 9]])\n",
    "\n",
    "arr2 = np.array([[14, 15, 16], [17, 18, 19], [20, 21, 22]])\n",
    "\n",
    "np.bitwise_or(arr1,arr2)"
   ]
  },
  {
   "cell_type": "markdown",
   "metadata": {},
   "source": [
    "We performed `bitwise_or` between two matrices of shape 3X3. We can perform bitwise_or between any two NumPy arrays of same shape."
   ]
  },
  {
   "cell_type": "code",
   "execution_count": 10,
   "metadata": {},
   "outputs": [
    {
     "ename": "ValueError",
     "evalue": "operands could not be broadcast together with shapes (2,2) (2,3) ",
     "output_type": "error",
     "traceback": [
      "\u001b[0;31m---------------------------------------------------------------------------\u001b[0m",
      "\u001b[0;31mValueError\u001b[0m                                Traceback (most recent call last)",
      "\u001b[0;32m/tmp/ipykernel_37/3308360201.py\u001b[0m in \u001b[0;36m<module>\u001b[0;34m\u001b[0m\n\u001b[1;32m      5\u001b[0m \u001b[0marr2\u001b[0m \u001b[0;34m=\u001b[0m \u001b[0mnp\u001b[0m\u001b[0;34m.\u001b[0m\u001b[0marray\u001b[0m\u001b[0;34m(\u001b[0m\u001b[0;34m[\u001b[0m\u001b[0;34m[\u001b[0m\u001b[0;36m5\u001b[0m\u001b[0;34m,\u001b[0m \u001b[0;36m6\u001b[0m\u001b[0;34m,\u001b[0m \u001b[0;36m7\u001b[0m\u001b[0;34m]\u001b[0m\u001b[0;34m,\u001b[0m \u001b[0;34m[\u001b[0m\u001b[0;36m8\u001b[0m\u001b[0;34m,\u001b[0m \u001b[0;36m9\u001b[0m\u001b[0;34m,\u001b[0m \u001b[0;36m10\u001b[0m\u001b[0;34m]\u001b[0m\u001b[0;34m]\u001b[0m\u001b[0;34m)\u001b[0m\u001b[0;34m\u001b[0m\u001b[0;34m\u001b[0m\u001b[0m\n\u001b[1;32m      6\u001b[0m \u001b[0;34m\u001b[0m\u001b[0m\n\u001b[0;32m----> 7\u001b[0;31m \u001b[0mnp\u001b[0m\u001b[0;34m.\u001b[0m\u001b[0mbitwise_or\u001b[0m\u001b[0;34m(\u001b[0m\u001b[0marr1\u001b[0m\u001b[0;34m,\u001b[0m\u001b[0marr2\u001b[0m\u001b[0;34m)\u001b[0m\u001b[0;34m\u001b[0m\u001b[0;34m\u001b[0m\u001b[0m\n\u001b[0m",
      "\u001b[0;31mValueError\u001b[0m: operands could not be broadcast together with shapes (2,2) (2,3) "
     ]
    }
   ],
   "source": [
    "# Example 3 - breaks\n",
    "\n",
    "arr1 = np.array([[1, 2], [3, 4]])\n",
    "\n",
    "arr2 = np.array([[5, 6, 7], [8, 9, 10]])\n",
    "\n",
    "np.bitwise_or(arr1,arr2)"
   ]
  },
  {
   "cell_type": "markdown",
   "metadata": {},
   "source": [
    "In the above example, we did not get the result expected as the shape of arrays `arr1` and `arr2` are different. Therefore, element-wise operations are not possible on this example. We can fix this issue by resizing the arrays to be of equal shape."
   ]
  },
  {
   "cell_type": "markdown",
   "metadata": {},
   "source": [
    "## Function 3 - np.bitwise_xor\n",
    "\n",
    "Computes the bitwiseXOR of two numpy arrays element-wise. In Python, bitwiseXOR is found of using `^`.\n",
    "<br/>\n",
    "<br/>\n",
    "Example:<br/>\n",
    "Let us see how the bitwiseXOR works conceptually. Consider two numbers: <br/>\n",
    "A = 12 <br/>\n",
    "B = 5 <br/>\n",
    "\n",
    "Binary representations of the two numbers are as follows: <br/>\n",
    "A = 12 => 1100 <br/>\n",
    "B = 5  => 0101 <br/>\n",
    "\n",
    "bitwiseXOR operator returns a 1 in each bit position where the corresponding bits in both the numbers are 1  and 0 each else it returns 0\n",
    "<br/>\n",
    "A = 12 => 1 1 0 0 <br/>\n",
    "B = 5  => 0 1 0 1 <br/>\n",
    "A^B    => 1 0 0 1 => 9 (in decimal representation) <br/>"
   ]
  },
  {
   "cell_type": "code",
   "execution_count": 11,
   "metadata": {},
   "outputs": [
    {
     "data": {
      "text/plain": [
       "array([ 88, 108,  33, 834, 729])"
      ]
     },
     "execution_count": 11,
     "metadata": {},
     "output_type": "execute_result"
    }
   ],
   "source": [
    "# Example 1 - working\n",
    "arr1 = np.array([12, 76, 97, 198, 210])\n",
    "\n",
    "arr2 = np.array([84, 32, 64, 900, 523])\n",
    "\n",
    "np.bitwise_xor(arr1,arr2)"
   ]
  },
  {
   "cell_type": "markdown",
   "metadata": {},
   "source": [
    "We can see the working of `bitwise_xor` in the above example. The function computes bitwise_xor between two NumPy arrays element-wise i.e, 12 XOR 84 = 88, 76 XOR 32 = 108 and so on."
   ]
  },
  {
   "cell_type": "code",
   "execution_count": 12,
   "metadata": {},
   "outputs": [
    {
     "data": {
      "text/plain": [
       "array([[57, 59, 57, 63],\n",
       "       [57, 59, 57, 55],\n",
       "       [73, 75, 73, 79],\n",
       "       [73, 75, 73, 87]])"
      ]
     },
     "execution_count": 12,
     "metadata": {},
     "output_type": "execute_result"
    }
   ],
   "source": [
    "# Example 2 - working\n",
    "\n",
    "arr1 = np.array([[1, 2, 3, 4], [5, 6, 7, 8], [9, 10, 11, 12], [13, 14, 15, 16]])\n",
    "\n",
    "arr2 = np.array([[56, 57, 58, 59], [60, 61, 62, 63], [64, 65, 66, 67], [68, 69, 70, 71]])\n",
    "\n",
    "np.bitwise_xor(arr1,arr2)"
   ]
  },
  {
   "cell_type": "markdown",
   "metadata": {},
   "source": [
    "We performed `bitwise_xor` between two matrices of shape 4X4. We can perform bitwise_xor between any two NumPy arrays of same shape."
   ]
  },
  {
   "cell_type": "code",
   "execution_count": 13,
   "metadata": {},
   "outputs": [
    {
     "ename": "ValueError",
     "evalue": "operands could not be broadcast together with shapes (2,2) (2,3) ",
     "output_type": "error",
     "traceback": [
      "\u001b[0;31m---------------------------------------------------------------------------\u001b[0m",
      "\u001b[0;31mValueError\u001b[0m                                Traceback (most recent call last)",
      "\u001b[0;32m/tmp/ipykernel_37/1414324063.py\u001b[0m in \u001b[0;36m<module>\u001b[0;34m\u001b[0m\n\u001b[1;32m      5\u001b[0m \u001b[0marr2\u001b[0m \u001b[0;34m=\u001b[0m \u001b[0mnp\u001b[0m\u001b[0;34m.\u001b[0m\u001b[0marray\u001b[0m\u001b[0;34m(\u001b[0m\u001b[0;34m[\u001b[0m\u001b[0;34m[\u001b[0m\u001b[0;36m11\u001b[0m\u001b[0;34m,\u001b[0m \u001b[0;36m12\u001b[0m\u001b[0;34m,\u001b[0m \u001b[0;36m13\u001b[0m\u001b[0;34m]\u001b[0m\u001b[0;34m,\u001b[0m \u001b[0;34m[\u001b[0m\u001b[0;36m14\u001b[0m\u001b[0;34m,\u001b[0m \u001b[0;36m15\u001b[0m\u001b[0;34m,\u001b[0m \u001b[0;36m16\u001b[0m\u001b[0;34m]\u001b[0m\u001b[0;34m]\u001b[0m\u001b[0;34m)\u001b[0m\u001b[0;34m\u001b[0m\u001b[0;34m\u001b[0m\u001b[0m\n\u001b[1;32m      6\u001b[0m \u001b[0;34m\u001b[0m\u001b[0m\n\u001b[0;32m----> 7\u001b[0;31m \u001b[0mnp\u001b[0m\u001b[0;34m.\u001b[0m\u001b[0mbitwise_or\u001b[0m\u001b[0;34m(\u001b[0m\u001b[0marr1\u001b[0m\u001b[0;34m,\u001b[0m\u001b[0marr2\u001b[0m\u001b[0;34m)\u001b[0m\u001b[0;34m\u001b[0m\u001b[0;34m\u001b[0m\u001b[0m\n\u001b[0m",
      "\u001b[0;31mValueError\u001b[0m: operands could not be broadcast together with shapes (2,2) (2,3) "
     ]
    }
   ],
   "source": [
    "# Example 3 - breaks\n",
    "\n",
    "arr1 = np.array([[5, 6], [7, 8]])\n",
    "\n",
    "arr2 = np.array([[11, 12, 13], [14, 15, 16]])\n",
    "\n",
    "np.bitwise_or(arr1,arr2)"
   ]
  },
  {
   "cell_type": "markdown",
   "metadata": {},
   "source": [
    "In the above example, we did not get the result expected as the shape of arrays `arr1` and `arr2` are different. Therefore, element-wise operations are not possible on this example. We can fix this issue by resizing the arrays to be of equal shape."
   ]
  },
  {
   "cell_type": "markdown",
   "metadata": {},
   "source": [
    "## Function 4 - np.invert\n",
    "\n",
    "Computes the bitwiseNOT of all elements in the numpy array. In Python, bitwiseNOT is found of using `~`.\n",
    "<br/>\n",
    "<br/>\n",
    "Example:<br/>\n",
    "Let us see how the bitwiseNOT works conceptually. Consider a number: <br/>\n",
    "A = 5 <br/>\n",
    "\n",
    "Binary representation of the number is as follows: <br/>\n",
    "A = 5 => 00000000000000000000000000000101 (32-bit representation)<br/>\n",
    "\n",
    "bitwiseNOT operator returns a 1 in each bit position where the corresponding bit is 0 and vice-versa.\n",
    "<br/>\n",
    "A = 12 => 0 0 0 0 0 0 0 0 0 0 0 0 0 0 0 0 0 0 0 0 0 0 0 0 0 0 0 0 1 0 1 <br/>\n",
    "~A     => 1 1 1 1 1 1 1 1 1 1 1 1 1 1 1 1 1 1 1 1 1 1 1 1 1 1 1 1 0 1 0 => -6 (in decimal representation) <br/>\n",
    "\n",
    "**Note:** *For a signed integer inputs, the two's complement is returned.* `bitwise_not` is an alias for `invert`"
   ]
  },
  {
   "cell_type": "code",
   "execution_count": 14,
   "metadata": {},
   "outputs": [
    {
     "data": {
      "text/plain": [
       "array([  -13,  -125, -9090,   -32,   -38])"
      ]
     },
     "execution_count": 14,
     "metadata": {},
     "output_type": "execute_result"
    }
   ],
   "source": [
    "# Example 1 - working\n",
    "\n",
    "arr1 = np.array([12, 124, 9089, 31, 37])\n",
    "\n",
    "np.invert(arr1)"
   ]
  },
  {
   "cell_type": "markdown",
   "metadata": {},
   "source": [
    "We can see the working of `invert` in the above example. The function computes bitwise_not for all elements in the array i.e, ~12 = -13, ~124 = -125 and so on."
   ]
  },
  {
   "cell_type": "code",
   "execution_count": 15,
   "metadata": {},
   "outputs": [
    {
     "data": {
      "text/plain": [
       "array([[-2, -3],\n",
       "       [89, 41]])"
      ]
     },
     "execution_count": 15,
     "metadata": {},
     "output_type": "execute_result"
    }
   ],
   "source": [
    "# Example 2 - working\n",
    "arr1 = np.array([[1,2],[-90, -42]])\n",
    "\n",
    "np.invert(arr1)"
   ]
  },
  {
   "cell_type": "markdown",
   "metadata": {},
   "source": [
    "We performed `bitwise_not` for all elements in the matrix of shape 2X2. We can perform bitwise_not for all NumPy arrays."
   ]
  },
  {
   "cell_type": "code",
   "execution_count": 16,
   "metadata": {},
   "outputs": [
    {
     "data": {
      "text/plain": [
       "array([False,  True])"
      ]
     },
     "execution_count": 16,
     "metadata": {},
     "output_type": "execute_result"
    }
   ],
   "source": [
    "# Example 3 - working\n",
    "\n",
    "x = np.array([True, False])\n",
    "\n",
    "np.bitwise_not(x)"
   ]
  },
  {
   "cell_type": "markdown",
   "metadata": {},
   "source": [
    "We can see another example using boolean value in the array. There are no counter examples to this `bitwise_not` operation."
   ]
  },
  {
   "cell_type": "markdown",
   "metadata": {},
   "source": [
    "## Function 5 - np.left_shift\n",
    "\n",
    "Computes the left shift operation for all the elements in the array i.e, moves each digit in number's binary representation left. During left shift, the most-significant bit is lost and 0 bit is inserted on the other end. In Python, left-shift is found using `<<`\n",
    "<br/>\n",
    "<br/>\n",
    "Example:<br/>\n",
    "Let us see how the left-shift works conceptually. Consider a number: <br/>\n",
    "A = 12 <br/>\n",
    "\n",
    "Binary representation of the number is as follows: <br/>\n",
    "A = 12 => 1100 <br/>\n",
    "\n",
    "Let us say, we want to left-shift this number by 2 bits.\n",
    "\n",
    "A = 12 => 1 1 0 0 <br/>\n",
    "A<<2   => 1 1 0 0 0 0 => 48 (in decimal representation) <br/>"
   ]
  },
  {
   "cell_type": "code",
   "execution_count": 17,
   "metadata": {},
   "outputs": [
    {
     "data": {
      "text/plain": [
       "array([ 336,  696,  744,  608, 4344])"
      ]
     },
     "execution_count": 17,
     "metadata": {},
     "output_type": "execute_result"
    }
   ],
   "source": [
    "# Example 1 - working\n",
    "arr1 = np.array([42, 87, 93, 76, 543])\n",
    "\n",
    "np.left_shift(arr1,3)"
   ]
  },
  {
   "cell_type": "markdown",
   "metadata": {},
   "source": [
    "We can see the working of `left_shift` in the above example. The function computes left-shift operation for all elements in the array by 3 bits each i.e, 42<<3 = 336, 87<<3 = 696 and so on."
   ]
  },
  {
   "cell_type": "code",
   "execution_count": 18,
   "metadata": {},
   "outputs": [
    {
     "data": {
      "text/plain": [
       "array([[ 4,  8, 12],\n",
       "       [16, 20, 24],\n",
       "       [28, 32, 36]])"
      ]
     },
     "execution_count": 18,
     "metadata": {},
     "output_type": "execute_result"
    }
   ],
   "source": [
    "# Example 2 - working\n",
    "arr1 = np.array([[1,2,3],[4,5,6],[7,8,9]])\n",
    "\n",
    "np.left_shift(arr1,2)"
   ]
  },
  {
   "cell_type": "markdown",
   "metadata": {},
   "source": [
    "We performed `left-shift` operation by 2 bits for every element in the above matrix of shape 3X3. We can perform left-shift operation for any NumPy array"
   ]
  },
  {
   "cell_type": "code",
   "execution_count": 19,
   "metadata": {},
   "outputs": [
    {
     "data": {
      "text/plain": [
       "array([8, 0])"
      ]
     },
     "execution_count": 19,
     "metadata": {},
     "output_type": "execute_result"
    }
   ],
   "source": [
    "# Example 3 - working\n",
    "arr1 = np.array([True,False])\n",
    "\n",
    "np.left_shift(arr1,3)"
   ]
  },
  {
   "cell_type": "markdown",
   "metadata": {},
   "source": [
    "This operation also works for arrays elements consisting boolean values. It consider `True` as 1 and `False` as 0. In the above example, we used the left-shift operation by 3 bits on the boolean array"
   ]
  },
  {
   "cell_type": "markdown",
   "metadata": {},
   "source": [
    "**Note:** *We can use the left-shift operation to find out the 2 power N for any positive integer 'N' i.e, (1<<N). This method finds the Nth power of 2 in LogN time*"
   ]
  },
  {
   "cell_type": "markdown",
   "metadata": {},
   "source": [
    "## Function 6 - np.right_shift\n",
    "\n",
    "Computes the right shift operation for all the elements in the array i.e, moves each digit in number's binary representation right. During right shift, the least-significant bit is lost and 0 bit is inserted on the other end. In Python, right-shift is found using `>>`\n",
    "<br/>\n",
    "<br/>\n",
    "Example:<br/>\n",
    "Let us see how the right-shift works conceptually. Consider a number: <br/>\n",
    "A = 12 <br/>\n",
    "\n",
    "Binary representation of the number is as follows: <br/>\n",
    "A = 12 => 1100 <br/>\n",
    "\n",
    "Let us say, we want to right-shift this number by 2 bits.\n",
    "\n",
    "A = 12 => 1 1 0 0 <br/>\n",
    "A>>2   => 0 0 1 1 => 3 (in decimal representation) <br/>"
   ]
  },
  {
   "cell_type": "code",
   "execution_count": 21,
   "metadata": {},
   "outputs": [
    {
     "data": {
      "text/plain": [
       "array([ 4,  5,  5,  1,  1, 11])"
      ]
     },
     "execution_count": 21,
     "metadata": {},
     "output_type": "execute_result"
    }
   ],
   "source": [
    "# Example 1 - working\n",
    "\n",
    "arr1 = np.array([65, 87, 92, 23, 17, 187])\n",
    "\n",
    "np.right_shift(arr1, 4)"
   ]
  },
  {
   "cell_type": "markdown",
   "metadata": {},
   "source": [
    "We can see the working of `right_shift` in the above example. The function computes right-shift operation for all elements in the array by 4 bits each i.e, 65>>4 = 4, 87>>4 = 5 and so on."
   ]
  },
  {
   "cell_type": "code",
   "execution_count": 22,
   "metadata": {},
   "outputs": [
    {
     "data": {
      "text/plain": [
       "array([[5, 5, 5, 6],\n",
       "       [6, 6, 6, 7],\n",
       "       [7, 7, 7, 8],\n",
       "       [8, 8, 8, 9]])"
      ]
     },
     "execution_count": 22,
     "metadata": {},
     "output_type": "execute_result"
    }
   ],
   "source": [
    "# Example 2 - working\n",
    "\n",
    "arr1 = np.array([[21,22,23,24],[25,26,27,28],[29,30,31,32],[33,34,35,36]])\n",
    "\n",
    "np.right_shift(arr1,2)"
   ]
  },
  {
   "cell_type": "markdown",
   "metadata": {},
   "source": [
    "We performed `right-shift` operation by 2 bits for every element in the above matrix of shape 4X4. We can perform right-shift operation for any NumPy array. The left-shift and right-shift operators have no counter examples where they does not work. These operations work for all types of numpy arrays"
   ]
  },
  {
   "cell_type": "code",
   "execution_count": 27,
   "metadata": {},
   "outputs": [
    {
     "data": {
      "text/plain": [
       "array([0, 0])"
      ]
     },
     "execution_count": 27,
     "metadata": {},
     "output_type": "execute_result"
    }
   ],
   "source": [
    "# Example 3 - working\n",
    "\n",
    "arr1 = np.array([True, False])\n",
    "\n",
    "np.right_shift(arr1,2)"
   ]
  },
  {
   "cell_type": "markdown",
   "metadata": {},
   "source": [
    "This operation also works for arrays elements consisting boolean values. It consider `True` as 1 and `False` as 0. In the above example, we used the right-shift operation by 2 bits on the boolean array"
   ]
  },
  {
   "cell_type": "markdown",
   "metadata": {},
   "source": [
    "## Conclusion\n",
    "\n",
    "In the above notebook, we have discussed the use of some numpy arrays operations that we do not frequently use but may require to use them at some point of time. "
   ]
  },
  {
   "cell_type": "markdown",
   "metadata": {},
   "source": [
    "## Reference Links\n",
    "Links to reference and other interesting articles on NumPy:\n",
    "* Numpy official tutorial : https://numpy.org/doc/stable/user/quickstart.html\n",
    "* Numpy binary operations: https://numpy.org/doc/stable/reference/routines.bitwise.html#elementwise-bit-operations"
   ]
  }
 ],
 "metadata": {
  "kernelspec": {
   "display_name": "Python 3 (ipykernel)",
   "language": "python",
   "name": "python3"
  },
  "language_info": {
   "codemirror_mode": {
    "name": "ipython",
    "version": 3
   },
   "file_extension": ".py",
   "mimetype": "text/x-python",
   "name": "python",
   "nbconvert_exporter": "python",
   "pygments_lexer": "ipython3",
   "version": "3.9.6"
  }
 },
 "nbformat": 4,
 "nbformat_minor": 4
}
